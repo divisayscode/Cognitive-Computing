{
 "cells": [
  {
   "cell_type": "code",
   "execution_count": 17,
   "id": "8d8e5a1c-1760-41cc-aa0b-376ed5201934",
   "metadata": {},
   "outputs": [
    {
     "name": "stdout",
     "output_type": "stream",
     "text": [
      "Divanshi\n",
      "Divanshi\n",
      "Divanshi\n"
     ]
    }
   ],
   "source": [
    "print(\"Divanshi\")\n",
    "print(\"Divanshi\")\n",
    "print(\"Divanshi\")"
   ]
  },
  {
   "cell_type": "code",
   "execution_count": 5,
   "id": "ac12919a-59ea-443f-a5d2-deadd77b413b",
   "metadata": {},
   "outputs": [
    {
     "name": "stdout",
     "output_type": "stream",
     "text": [
      "30\n"
     ]
    }
   ],
   "source": [
    "a=10\n",
    "b=20\n",
    "c=a+b\n",
    "print(c)"
   ]
  },
  {
   "cell_type": "code",
   "execution_count": 11,
   "id": "df63d8c8-c253-4a32-9ab7-3a82f072a559",
   "metadata": {},
   "outputs": [
    {
     "name": "stdout",
     "output_type": "stream",
     "text": [
      "a+b+c --> 90\n"
     ]
    }
   ],
   "source": [
    "a=10\n",
    "b=20\n",
    "c=60\n",
    "d=a+b+c\n",
    "print(\"a+b+c -->\",d)"
   ]
  },
  {
   "cell_type": "code",
   "execution_count": 15,
   "id": "ad93d6d4-9a4f-4b80-bf96-4018d21d007d",
   "metadata": {},
   "outputs": [
    {
     "name": "stdout",
     "output_type": "stream",
     "text": [
      "String a+b+c is My name is Anthony Gonsalves\n"
     ]
    }
   ],
   "source": [
    "a=\"My name is\"\n",
    "b=\" Anthony\"\n",
    "c=\" Gonsalves\"\n",
    "d=a+b+c\n",
    "print(\"String a+b+c is\",d)"
   ]
  },
  {
   "cell_type": "code",
   "execution_count": 21,
   "id": "07fdf27d-cf8a-4696-8521-8c5783c538d2",
   "metadata": {},
   "outputs": [
    {
     "name": "stdin",
     "output_type": "stream",
     "text": [
      "Enter the first number 4\n",
      "Enter the second number 5\n"
     ]
    },
    {
     "name": "stdout",
     "output_type": "stream",
     "text": [
      "9\n"
     ]
    }
   ],
   "source": [
    "a=int(input(\"Enter the first number\"))\n",
    "b=int(input(\"Enter the second number\"))\n",
    "c=a+b\n",
    "print(c)"
   ]
  },
  {
   "cell_type": "code",
   "execution_count": 25,
   "id": "5b2b742a-e02e-444c-b7fb-6076a9eb92bf",
   "metadata": {},
   "outputs": [
    {
     "name": "stdout",
     "output_type": "stream",
     "text": [
      "1\n",
      "2\n",
      "3\n",
      "4\n",
      "5\n",
      "6\n",
      "7\n",
      "8\n",
      "9\n"
     ]
    }
   ],
   "source": [
    "i=1;\n",
    "while(i<10):\n",
    "    print(i)\n",
    "    i=i+1"
   ]
  },
  {
   "cell_type": "code",
   "execution_count": 27,
   "id": "0bf59a77-7318-4b0c-af25-168b6cab292d",
   "metadata": {},
   "outputs": [
    {
     "name": "stdout",
     "output_type": "stream",
     "text": [
      "[0, 2, 4, 6, 8, 10, 12, 14, 16, 18]\n"
     ]
    }
   ],
   "source": [
    "print(list(range(0,20,2)))"
   ]
  },
  {
   "cell_type": "code",
   "execution_count": 31,
   "id": "24b21043-b91c-457a-8a8c-28f9acaa6af3",
   "metadata": {},
   "outputs": [
    {
     "name": "stdout",
     "output_type": "stream",
     "text": [
      "0\n",
      "1\n",
      "2\n",
      "3\n",
      "4\n",
      "5\n",
      "6\n",
      "7\n",
      "8\n",
      "9\n"
     ]
    }
   ],
   "source": [
    "for i in range(0,10):\n",
    "    print(i)"
   ]
  },
  {
   "cell_type": "code",
   "execution_count": 37,
   "id": "a2acd5b4-a5b1-4c34-92ba-f996c145150d",
   "metadata": {},
   "outputs": [
    {
     "name": "stdout",
     "output_type": "stream",
     "text": [
      "The table of 5\n",
      "5\n",
      "10\n",
      "15\n",
      "20\n",
      "25\n",
      "30\n",
      "35\n",
      "40\n",
      "45\n",
      "50\n"
     ]
    }
   ],
   "source": [
    "print(\"The table of 5\")\n",
    "for i in range(1,11):\n",
    "     print(5*i)"
   ]
  },
  {
   "cell_type": "code",
   "execution_count": 57,
   "id": "f4bcca39-8391-4761-9700-0e752a037fa5",
   "metadata": {},
   "outputs": [
    {
     "name": "stdin",
     "output_type": "stream",
     "text": [
      "Enter the number uptill which you want the sum 10\n"
     ]
    },
    {
     "name": "stdout",
     "output_type": "stream",
     "text": [
      "55\n"
     ]
    }
   ],
   "source": [
    "n=int(input(\"Enter the number uptill which you want the sum\"))\n",
    "sum=0\n",
    "for i in range(0,n+1):\n",
    "    sum=sum+i\n",
    "print(sum)"
   ]
  },
  {
   "cell_type": "code",
   "execution_count": 45,
   "id": "6bbfe3af-4f8c-4c7d-a145-e307a2f00cdd",
   "metadata": {},
   "outputs": [
    {
     "name": "stdout",
     "output_type": "stream",
     "text": [
      "The table of 7\n",
      "7\n",
      "14\n",
      "21\n",
      "28\n",
      "35\n",
      "42\n",
      "49\n",
      "56\n",
      "63\n",
      "70\n"
     ]
    }
   ],
   "source": [
    "print(\"The table of 7\")\n",
    "for i in range(1,11):\n",
    "     print(7*i)"
   ]
  },
  {
   "cell_type": "code",
   "execution_count": 49,
   "id": "93ad4337-f52d-48b0-8c09-607683aed892",
   "metadata": {},
   "outputs": [
    {
     "name": "stdout",
     "output_type": "stream",
     "text": [
      "The table of 9\n",
      "9\n",
      "18\n",
      "27\n",
      "36\n",
      "45\n",
      "54\n",
      "63\n",
      "72\n",
      "81\n",
      "90\n"
     ]
    }
   ],
   "source": [
    "print(\"The table of 9\")\n",
    "for i in range(1,11):\n",
    "     print(9*i)"
   ]
  },
  {
   "cell_type": "code",
   "execution_count": 53,
   "id": "88401dc3-5ec5-4a00-9c0f-19b0bafda15b",
   "metadata": {},
   "outputs": [
    {
     "name": "stdin",
     "output_type": "stream",
     "text": [
      "Enter the number whose table you want 8\n"
     ]
    },
    {
     "name": "stdout",
     "output_type": "stream",
     "text": [
      "8\n",
      "16\n",
      "24\n",
      "32\n",
      "40\n",
      "48\n",
      "56\n",
      "64\n",
      "72\n",
      "80\n"
     ]
    }
   ],
   "source": [
    "a=int(input(\"Enter the number whose table you want\"))\n",
    "for i in range(1,11):\n",
    "    print(a*i)"
   ]
  },
  {
   "cell_type": "code",
   "execution_count": 59,
   "id": "04248970-5d23-4029-98a7-cd5e6ed02af4",
   "metadata": {},
   "outputs": [
    {
     "name": "stdin",
     "output_type": "stream",
     "text": [
      "Enter first number 5\n"
     ]
    },
    {
     "name": "stdout",
     "output_type": "stream",
     "text": [
      "a is odd\n"
     ]
    }
   ],
   "source": [
    "a=int(input(\"Enter first number\"))\n",
    "if (a%2==0):\n",
    "    print(\"a is even\")\n",
    "else:\n",
    "    print(\"a is odd\")"
   ]
  },
  {
   "cell_type": "code",
   "execution_count": 61,
   "id": "e12c74be-80bc-47f1-9b63-1eb79bfd7301",
   "metadata": {},
   "outputs": [
    {
     "name": "stdout",
     "output_type": "stream",
     "text": [
      "30\n"
     ]
    }
   ],
   "source": [
    "def add(a,b):\n",
    "    c=a+b\n",
    "    return c\n",
    "\n",
    "print(add(10,20))"
   ]
  },
  {
   "cell_type": "code",
   "execution_count": 69,
   "id": "7a0386d3-1933-4b1e-979b-419dd68d30e7",
   "metadata": {},
   "outputs": [
    {
     "name": "stdout",
     "output_type": "stream",
     "text": [
      "1\n"
     ]
    }
   ],
   "source": [
    "def isprime(n):\n",
    "    for i in range(2,n//2+1):\n",
    "        if n%i==0:\n",
    "            return 0\n",
    "\n",
    "        else:\n",
    "            return 1\n",
    "print(isprime(7))\n",
    "       "
   ]
  },
  {
   "cell_type": "code",
   "execution_count": 73,
   "id": "f8fc6cdd-18a9-4b13-a6d0-b8ce9bf75f65",
   "metadata": {},
   "outputs": [
    {
     "name": "stdout",
     "output_type": "stream",
     "text": [
      "0\n"
     ]
    }
   ],
   "source": [
    "sum=0\n",
    "def addodd(a,b):\n",
    "    sum=sum+list(range(0,11,1))\n",
    "    \n",
    "print(sum)\n",
    "    "
   ]
  },
  {
   "cell_type": "code",
   "execution_count": 95,
   "id": "e12b2482-2186-4483-94e9-630396c4bb55",
   "metadata": {},
   "outputs": [
    {
     "name": "stdout",
     "output_type": "stream",
     "text": [
      "1.3838965267367376e-87\n"
     ]
    },
    {
     "data": {
      "text/plain": [
       "89"
      ]
     },
     "execution_count": 95,
     "metadata": {},
     "output_type": "execute_result"
    }
   ],
   "source": [
    "import math as m\n",
    "print(m.exp(-200))\n",
    "m.log(10,2)\n",
    "m.log10(100)\n",
    "m.cos(30)\n",
    "m.sin(30)\n",
    "m.tan(30)\n",
    "m.sqrt(256)\n",
    "m.ceil(89.9)\n",
    "m.floor(89.9)"
   ]
  },
  {
   "cell_type": "code",
   "execution_count": 103,
   "id": "3f500522-ff98-4122-9b07-26b762d92479",
   "metadata": {},
   "outputs": [
    {
     "name": "stdout",
     "output_type": "stream",
     "text": [
      "Hello World\n",
      "11\n",
      "HELLO WORLD\n",
      "hello world\n"
     ]
    }
   ],
   "source": [
    "str=\"Hello World\"\n",
    "print(str)  \n",
    "print(len(str))\n",
    "print(str.upper())\n",
    "print(str.lower())"
   ]
  },
  {
   "cell_type": "code",
   "execution_count": 109,
   "id": "f497a968-200c-4f3e-9dc1-41d2a1e0ff71",
   "metadata": {},
   "outputs": [
    {
     "name": "stdin",
     "output_type": "stream",
     "text": [
      "Enter your name divanshi\n",
      "Enter your age 20\n",
      "Enter the price of the item 2000\n"
     ]
    },
    {
     "name": "stdout",
     "output_type": "stream",
     "text": [
      "\n",
      " Your name DIVANSHI,age 20 and price of item 2000.000000\n"
     ]
    }
   ],
   "source": [
    "name=input(\"Enter your name\")\n",
    "age=int (input(\"Enter your age\"))\n",
    "price=float(input(\"Enter the price of the item\"))\n",
    "s=\"\\n Your name %s,age %d and price of item %f\"%(name.upper(),age,price)\n",
    "print(s)"
   ]
  },
  {
   "cell_type": "code",
   "execution_count": 111,
   "id": "3f6492ee-f449-4165-91c8-75e5f6088a89",
   "metadata": {},
   "outputs": [
    {
     "name": "stdout",
     "output_type": "stream",
     "text": [
      "This is a way to write paragraphs\n",
      "in python and its really an interesting way.\n",
      "What we just do is to create 3 quotes and write\n",
      "our content\n"
     ]
    }
   ],
   "source": [
    "str=\"\"\"This is a way to write paragraphs\n",
    "in python and its really an interesting way.\n",
    "What we just do is to create 3 quotes and write\n",
    "our content\"\"\"\n",
    "print(str)"
   ]
  },
  {
   "cell_type": "code",
   "execution_count": 123,
   "id": "029c5fcd-daa8-41dc-9db9-be7aa5278fc7",
   "metadata": {},
   "outputs": [
    {
     "name": "stdout",
     "output_type": "stream",
     "text": [
      "21\n",
      "Indian Army\n",
      "11\n"
     ]
    }
   ],
   "source": [
    "var=\"   Indian Army       \"\n",
    "print(len(var))\n",
    "print(var.strip())\n",
    "print(len(var.strip()))"
   ]
  },
  {
   "cell_type": "code",
   "execution_count": 3,
   "id": "90ff37d1-2018-4c9a-a478-187862e08433",
   "metadata": {},
   "outputs": [
    {
     "name": "stdout",
     "output_type": "stream",
     "text": [
      "33\n",
      "['Indian', 'Institute', 'of', 'Technology']\n",
      "['Indian Institute of Technology   ']\n"
     ]
    }
   ],
   "source": [
    "var=\"Indian Institute of Technology   \"\n",
    "print(len(var))\n",
    "print(var.split())\n",
    "print(var.split(','))"
   ]
  },
  {
   "cell_type": "code",
   "execution_count": 19,
   "id": "e7d58c88-e07a-4210-8d26-0f8b73479105",
   "metadata": {},
   "outputs": [
    {
     "name": "stdout",
     "output_type": "stream",
     "text": [
      "30\n",
      "31\n",
      "3\n",
      "2\n"
     ]
    }
   ],
   "source": [
    "var=\"Indian Institute of Technology\"\n",
    "print(len(var))\n",
    "print(var.count(''))\n",
    "print(var.count('t'))\n",
    "print(var.count('I'))"
   ]
  },
  {
   "cell_type": "code",
   "execution_count": 35,
   "id": "561048a8-f632-48a5-9f2d-609101bbefa1",
   "metadata": {},
   "outputs": [
    {
     "name": "stdout",
     "output_type": "stream",
     "text": [
      "Divanshi\n",
      "Divanshi\n",
      "Dvnh\n",
      "ihsnaviD\n",
      "isai\n"
     ]
    }
   ],
   "source": [
    "var=\"Divanshi\"\n",
    "print(var)\n",
    "print(var[::1])\n",
    "print(var[::2])\n",
    "print(var[::-1])\n",
    "print(var[::-2])"
   ]
  },
  {
   "cell_type": "code",
   "execution_count": 39,
   "id": "88603cbb-248b-40d0-8540-6e0afb52dfa6",
   "metadata": {},
   "outputs": [
    {
     "name": "stdout",
     "output_type": "stream",
     "text": [
      "ihsnaviD\n"
     ]
    }
   ],
   "source": [
    "var=\"Divanshi\"\n",
    "var=var[::-1]\n",
    "print(var)"
   ]
  },
  {
   "cell_type": "code",
   "execution_count": 51,
   "id": "c90a3c50-9859-4096-a4ff-71652232bf88",
   "metadata": {},
   "outputs": [
    {
     "name": "stdout",
     "output_type": "stream",
     "text": [
      "This checks the palindrome\n",
      "False\n",
      "False\n",
      "True\n"
     ]
    }
   ],
   "source": [
    "print(\"This checks the palindrome\")\n",
    "s1=\"Indian Institute\"\n",
    "s2=\"punjabi\"\n",
    "s3=\"madam\"\n",
    "s4=\"teacher\"\n",
    "print(s1==s1[::-1])\n",
    "print(s2==s2[::-1])\n",
    "print(s3==s3[::-1])"
   ]
  },
  {
   "cell_type": "code",
   "execution_count": 65,
   "id": "a6735485-223e-4445-83e7-17add05a0475",
   "metadata": {},
   "outputs": [
    {
     "name": "stdout",
     "output_type": "stream",
     "text": [
      "0.3078260629469963\n",
      "0.85441126385811\n",
      "0.4438\n"
     ]
    }
   ],
   "source": [
    "import random as r\n",
    "print(r.random())\n",
    "print(r.random())\n",
    "print(round(r.random(),4))"
   ]
  },
  {
   "cell_type": "code",
   "execution_count": 79,
   "id": "7f302152-2990-4c1e-abbe-d011023e7e4a",
   "metadata": {},
   "outputs": [
    {
     "name": "stdout",
     "output_type": "stream",
     "text": [
      "48\n",
      "62\n",
      "2\n"
     ]
    }
   ],
   "source": [
    "import random as r\n",
    "print(r.randint(1,100))\n",
    "print(r.randint(1,100))\n",
    "print(r.randint(-1,10))"
   ]
  },
  {
   "cell_type": "code",
   "execution_count": 89,
   "id": "08c87b56-1662-4daa-b1ef-ecddc84e3a13",
   "metadata": {},
   "outputs": [
    {
     "name": "stdout",
     "output_type": "stream",
     "text": [
      "Real Number generation\n",
      "47.4299202113268\n",
      "-3.704821703241265\n",
      "-1.72\n"
     ]
    }
   ],
   "source": [
    "print(\"Real Number generation\")\n",
    "import random as r\n",
    "print(r.uniform(1,100))\n",
    "print(r.uniform(-10,2))\n",
    "print(round(r.uniform(-10,2),2))"
   ]
  },
  {
   "cell_type": "code",
   "execution_count": 101,
   "id": "f01b885a-493f-4bde-a7ff-5aabf3832e02",
   "metadata": {},
   "outputs": [
    {
     "name": "stdout",
     "output_type": "stream",
     "text": [
      "[6, 5, 4, 1]\n",
      "[1, 5]\n",
      "[86, 98]\n",
      "[34, 15, 40, 51, 14]\n"
     ]
    }
   ],
   "source": [
    "import random as r\n",
    "a=[1,2,3,4,5,6]\n",
    "print(r.sample(a,4))\n",
    "print(r.sample(a,2))\n",
    "print(r.sample(range(0,100),2))\n",
    "print(r.sample(range(10,60),5))"
   ]
  },
  {
   "cell_type": "code",
   "execution_count": 121,
   "id": "4873ab71-ba16-479e-86d2-90d007f06be9",
   "metadata": {},
   "outputs": [
    {
     "name": "stdout",
     "output_type": "stream",
     "text": [
      "String is abcdefghijklmnopqrstuvwxyzABCDEFGHIJKLMNOPQRSTUVWXYZ\n",
      "['q', 'c', 'z', 'R', 'V', 'h', 'k', 'u']\n",
      "qczRVhku\n",
      "q+c+z+R+V+h+k+u\n",
      "q-c-z-R-V-h-k-u\n"
     ]
    }
   ],
   "source": [
    "import string as s\n",
    "import random as r\n",
    "print(\"String is\",s.ascii_letters)\n",
    "passwd=r.sample(s.ascii_letters,8)\n",
    "print(passwd)\n",
    "passwd1=\"\".join(passwd)\n",
    "print(passwd1)\n",
    "passwd2=\"+\".join(passwd)\n",
    "print(passwd2)\n",
    "passwd3=\"-\".join(passwd)\n",
    "print(passwd3)"
   ]
  },
  {
   "cell_type": "code",
   "execution_count": 139,
   "id": "58db2094-34f2-4e2b-8c17-e34c735e43cb",
   "metadata": {},
   "outputs": [
    {
     "name": "stdout",
     "output_type": "stream",
     "text": [
      "0123456789\n",
      "['2', '5', '0', '3', '7']\n",
      "25037\n",
      "2+5+0+3+7\n",
      "['2', '5', '0', '3', '7']\n"
     ]
    }
   ],
   "source": [
    "import string as s\n",
    "import random as r\n",
    "print(s.digits)\n",
    "otp=r.sample(s.digits,5)\n",
    "print(otp)\n",
    "passwd1=\"\".join(otp)\n",
    "print(passwd1)\n",
    "passwd2=\"+\".join(otp)\n",
    "print(passwd2)\n",
    "passwd3=\".\".join(otp)\n",
    "print(otp)"
   ]
  },
  {
   "cell_type": "code",
   "execution_count": 151,
   "id": "79ca0cbb-94e6-4e24-ba98-35aad9c129d1",
   "metadata": {},
   "outputs": [
    {
     "name": "stdout",
     "output_type": "stream",
     "text": [
      "String+Digits abcdefghijklmnopqrstuvwxyzABCDEFGHIJKLMNOPQRSTUVWXYZ0123456789\n",
      "['d', 'M', 'k', 'B', '3', 'w', 'I', 'U']\n",
      "dMkB3wIU\n"
     ]
    }
   ],
   "source": [
    "import string as s\n",
    "import random as r\n",
    "print(\"String+Digits\",s.ascii_letters+s.digits)\n",
    "mixpasswd=r.sample(s.ascii_letters+s.digits,8)\n",
    "print(mixpasswd)\n",
    "mixpasswd1=\"\".join(mixpasswd)\n",
    "print(mixpasswd1)"
   ]
  },
  {
   "cell_type": "code",
   "execution_count": 157,
   "id": "bd965dc5-c3dd-4735-904e-06d3cbe19e36",
   "metadata": {},
   "outputs": [
    {
     "name": "stdout",
     "output_type": "stream",
     "text": [
      "Exception Handling:\n",
      "-10.0\n",
      "-11.11111111111111\n",
      "-12.5\n",
      "-14.285714285714286\n",
      "-16.666666666666668\n",
      "-20.0\n",
      "-25.0\n",
      "-33.333333333333336\n",
      "-50.0\n",
      "-100.0\n",
      "Error\n",
      "100.0\n",
      "50.0\n",
      "33.333333333333336\n",
      "25.0\n",
      "20.0\n",
      "16.666666666666668\n",
      "14.285714285714286\n",
      "12.5\n",
      "11.11111111111111\n"
     ]
    }
   ],
   "source": [
    "print(\"Exception Handling:\")\n",
    "for i in range(-10,10):\n",
    "    try:\n",
    "        print(100/i)\n",
    "    except:\n",
    "        print(\"Error\")"
   ]
  },
  {
   "cell_type": "code",
   "execution_count": 161,
   "id": "147abaf0-5e89-4714-96da-c815fb4ff068",
   "metadata": {},
   "outputs": [
    {
     "name": "stdout",
     "output_type": "stream",
     "text": [
      "0 1\n",
      "1 2\n",
      "2 3\n",
      "3 4\n",
      "4 5\n",
      "Error\n",
      "Error\n",
      "Error\n"
     ]
    }
   ],
   "source": [
    "l=[1,2,3,4,5]\n",
    "for i in range(8):\n",
    "    try:\n",
    "        print(i,l[i])\n",
    "    except:\n",
    "        print(\"Error\")"
   ]
  },
  {
   "cell_type": "code",
   "execution_count": 163,
   "id": "9ccecea2-81d8-43bd-a41f-dcb6ce5e7713",
   "metadata": {},
   "outputs": [
    {
     "name": "stdin",
     "output_type": "stream",
     "text": [
      "Enter the file name test\n"
     ]
    },
    {
     "ename": "FileNotFoundError",
     "evalue": "[Errno 2] No such file or directory: 'test'",
     "output_type": "error",
     "traceback": [
      "\u001b[1;31m---------------------------------------------------------------------------\u001b[0m",
      "\u001b[1;31mFileNotFoundError\u001b[0m                         Traceback (most recent call last)",
      "Cell \u001b[1;32mIn[163], line 2\u001b[0m\n\u001b[0;32m      1\u001b[0m filename\u001b[38;5;241m=\u001b[39m\u001b[38;5;28minput\u001b[39m(\u001b[38;5;124m\"\u001b[39m\u001b[38;5;124mEnter the file name\u001b[39m\u001b[38;5;124m\"\u001b[39m)\n\u001b[1;32m----> 2\u001b[0m fp\u001b[38;5;241m=\u001b[39m\u001b[38;5;28mopen\u001b[39m(filename)\n\u001b[0;32m      3\u001b[0m fp\u001b[38;5;241m.\u001b[39mclose()\n\u001b[0;32m      4\u001b[0m \u001b[38;5;28mprint\u001b[39m(\u001b[38;5;124m\"\u001b[39m\u001b[38;5;124mDone\u001b[39m\u001b[38;5;124m\"\u001b[39m)\n",
      "File \u001b[1;32m~\\anaconda3\\Lib\\site-packages\\IPython\\core\\interactiveshell.py:324\u001b[0m, in \u001b[0;36m_modified_open\u001b[1;34m(file, *args, **kwargs)\u001b[0m\n\u001b[0;32m    317\u001b[0m \u001b[38;5;28;01mif\u001b[39;00m file \u001b[38;5;129;01min\u001b[39;00m {\u001b[38;5;241m0\u001b[39m, \u001b[38;5;241m1\u001b[39m, \u001b[38;5;241m2\u001b[39m}:\n\u001b[0;32m    318\u001b[0m     \u001b[38;5;28;01mraise\u001b[39;00m \u001b[38;5;167;01mValueError\u001b[39;00m(\n\u001b[0;32m    319\u001b[0m         \u001b[38;5;124mf\u001b[39m\u001b[38;5;124m\"\u001b[39m\u001b[38;5;124mIPython won\u001b[39m\u001b[38;5;124m'\u001b[39m\u001b[38;5;124mt let you open fd=\u001b[39m\u001b[38;5;132;01m{\u001b[39;00mfile\u001b[38;5;132;01m}\u001b[39;00m\u001b[38;5;124m by default \u001b[39m\u001b[38;5;124m\"\u001b[39m\n\u001b[0;32m    320\u001b[0m         \u001b[38;5;124m\"\u001b[39m\u001b[38;5;124mas it is likely to crash IPython. If you know what you are doing, \u001b[39m\u001b[38;5;124m\"\u001b[39m\n\u001b[0;32m    321\u001b[0m         \u001b[38;5;124m\"\u001b[39m\u001b[38;5;124myou can use builtins\u001b[39m\u001b[38;5;124m'\u001b[39m\u001b[38;5;124m open.\u001b[39m\u001b[38;5;124m\"\u001b[39m\n\u001b[0;32m    322\u001b[0m     )\n\u001b[1;32m--> 324\u001b[0m \u001b[38;5;28;01mreturn\u001b[39;00m io_open(file, \u001b[38;5;241m*\u001b[39margs, \u001b[38;5;241m*\u001b[39m\u001b[38;5;241m*\u001b[39mkwargs)\n",
      "\u001b[1;31mFileNotFoundError\u001b[0m: [Errno 2] No such file or directory: 'test'"
     ]
    }
   ],
   "source": [
    "filename=input(\"Enter the file name\")\n",
    "fp=open(filename)\n",
    "fp.close()\n",
    "print(\"Done\")"
   ]
  },
  {
   "cell_type": "code",
   "execution_count": 165,
   "id": "d3e5dc17-d493-4fd2-b6fd-a51e0c8efdb1",
   "metadata": {},
   "outputs": [
    {
     "name": "stdin",
     "output_type": "stream",
     "text": [
      "Enter the filename test\n"
     ]
    },
    {
     "name": "stdout",
     "output_type": "stream",
     "text": [
      "Error the file not present\n",
      "done\n"
     ]
    }
   ],
   "source": [
    "filename=input(\"Enter the filename\")\n",
    "try:\n",
    "    fp=open(filename)\n",
    "    fp.close()\n",
    "\n",
    "except:\n",
    "    print(\"Error the file not present\")\n",
    "\n",
    "print(\"done\")"
   ]
  },
  {
   "cell_type": "code",
   "execution_count": 169,
   "id": "56b38fc4-1378-4182-b514-857be712de04",
   "metadata": {},
   "outputs": [
    {
     "name": "stdout",
     "output_type": "stream",
     "text": [
      "['apple', 'orange', 'Guava']\n",
      "3\n"
     ]
    }
   ],
   "source": [
    "L=['apple','orange','Guava']\n",
    "print(L)\n",
    "print(len(L))"
   ]
  },
  {
   "cell_type": "code",
   "execution_count": 173,
   "id": "c5469d35-dc1f-48a9-941c-f9fd3d5548c9",
   "metadata": {},
   "outputs": [
    {
     "name": "stdout",
     "output_type": "stream",
     "text": [
      "['apple', 3.14, 7]\n",
      "apple\n",
      "3.14\n",
      "7\n"
     ]
    }
   ],
   "source": [
    "List=['apple',3.14,7]\n",
    "print(List)\n",
    "i=0\n",
    "while i<len(List):\n",
    "    print(List[i])\n",
    "    i=i+1"
   ]
  },
  {
   "cell_type": "code",
   "execution_count": 179,
   "id": "5d594dfe-75c4-4ed5-9e27-1e63eb8fe9e2",
   "metadata": {},
   "outputs": [
    {
     "name": "stdout",
     "output_type": "stream",
     "text": [
      "3\n",
      "My\n",
      "name is\n",
      "Divanshi\n"
     ]
    }
   ],
   "source": [
    "List=['My','name is','Divanshi']\n",
    "print(len(List))\n",
    "for i in range(0,len(List)):\n",
    "    print(List[i])"
   ]
  },
  {
   "cell_type": "code",
   "execution_count": 181,
   "id": "3ff69d4c-01cc-4cc3-a234-b101690c6168",
   "metadata": {},
   "outputs": [
    {
     "name": "stdout",
     "output_type": "stream",
     "text": [
      "3\n",
      "My\n",
      "name is\n",
      "Divanshi\n"
     ]
    }
   ],
   "source": [
    "List=['My','name is','Divanshi']\n",
    "print(len(List))\n",
    "for s in List:\n",
    "    print(s)"
   ]
  },
  {
   "cell_type": "code",
   "execution_count": 193,
   "id": "7c9023d9-39c9-40e7-b631-dfea5c57ab1e",
   "metadata": {},
   "outputs": [
    {
     "name": "stdout",
     "output_type": "stream",
     "text": [
      "['My', 'name is', 'Divanshi']\n",
      "['My', 'name is', 'Divanshi', 'UCS 712']\n",
      "['name is', 'Divanshi', 'UCS 712']\n"
     ]
    }
   ],
   "source": [
    "List=['My','name is','Divanshi']\n",
    "print(List)\n",
    "List.append(\"UCS 712\")\n",
    "print(List)\n",
    "del List[0]\n",
    "print(List)"
   ]
  },
  {
   "cell_type": "code",
   "execution_count": 221,
   "id": "3cc0c90f-cfb1-4118-b1d7-8fd37f4abbcf",
   "metadata": {},
   "outputs": [
    {
     "name": "stdout",
     "output_type": "stream",
     "text": [
      "[1, 8, 3, 7, 5, 6, 4, 12, 11, 10]\n",
      "67\n",
      "6.7\n",
      "12\n",
      "1\n",
      "[1, 3, 4, 5, 6, 7, 8, 10, 11, 12]\n",
      "[12, 11, 10, 8, 7, 6, 5, 4, 3, 1]\n"
     ]
    }
   ],
   "source": [
    "List=[1,8,3,7,5,6,4,12,11,10]\n",
    "print(List)\n",
    "print(sum(List))\n",
    "print(sum(List)/len(List))\n",
    "print(max(List))\n",
    "print(min(List))\n",
    "List.sort()\n",
    "print(List)\n",
    "List.sort(reverse=True)\n",
    "print(List)"
   ]
  },
  {
   "cell_type": "code",
   "execution_count": 235,
   "id": "5d42b9d0-7ecf-4367-b94d-73a6816252e5",
   "metadata": {},
   "outputs": [
    {
     "name": "stdout",
     "output_type": "stream",
     "text": [
      "[1, 2, 3, 4, 5, 8, 5, 6, 9, 2]\n",
      "[3, 4, 5, 8, 5, 6, 9, 2]\n",
      "[3, 4, 5]\n",
      "[1, 2, 3, 4, 5]\n",
      "[1, 4, 5, 2]\n"
     ]
    }
   ],
   "source": [
    "l1=[1,2,3,4,5]\n",
    "l2=[8,5,6,9,2]\n",
    "l3=l1+l2\n",
    "print(l3)\n",
    "print(l3[2:])\n",
    "print(l3[2:5])\n",
    "print(l3[:5])\n",
    "print(l3[::3])"
   ]
  },
  {
   "cell_type": "code",
   "execution_count": 239,
   "id": "66dda748-34d4-42f1-8732-31a84669ae89",
   "metadata": {},
   "outputs": [
    {
     "name": "stdout",
     "output_type": "stream",
     "text": [
      "[1, 2, 3, 4, 5]\n",
      "[3, 6, 9, 12, 15]\n"
     ]
    }
   ],
   "source": [
    "List=[1,2,3,4,5]\n",
    "print(List)\n",
    "newL=[i*3 for i in List]\n",
    "print(newL)"
   ]
  },
  {
   "cell_type": "code",
   "execution_count": 247,
   "id": "36b0e7ba-9b38-491e-88e5-64f27847f08f",
   "metadata": {},
   "outputs": [
    {
     "name": "stdout",
     "output_type": "stream",
     "text": [
      "True\n",
      "True\n",
      "False\n",
      "Present\n"
     ]
    }
   ],
   "source": [
    "L=[3, 6, 9, 12, 5, 3, 2]\n",
    "print(6 in L)\n",
    "print(2 in L)\n",
    "print(10 in L)\n",
    "if (6 in L)==True:\n",
    "    print(\"Present\")\n",
    "else:\n",
    "    print(\"Not present\")"
   ]
  },
  {
   "cell_type": "code",
   "execution_count": 281,
   "id": "b4ef756f-9608-4de3-bc8c-145600582e0a",
   "metadata": {},
   "outputs": [
    {
     "name": "stdout",
     "output_type": "stream",
     "text": [
      "{1: 9.55, 2: 8.0, 4: 8.9, 7: 9.11}\n",
      "4\n",
      "9.55\n",
      "9.55\n",
      "8.0\n",
      "8.9\n",
      "9.11\n",
      "dict_keys([1, 2, 4, 7])\n",
      "dict_values([9.55, 8.0, 8.9, 9.11])\n",
      "{1: 9.55, 2: 8.0, 4: 8.9, 7: 9.11, 3: 9.22}\n",
      "{2: 8.0, 4: 8.9, 7: 9.11, 3: 9.22}\n",
      "{}\n",
      "False\n"
     ]
    }
   ],
   "source": [
    "cgpa={1:9.55,2:8.00,4:8.9 ,7:9.11}\n",
    "print(cgpa)\n",
    "print(len(cgpa))\n",
    "print(cgpa[1])\n",
    "\n",
    "for k in cgpa:\n",
    "    print(cgpa[k])\n",
    "print(cgpa.keys())\n",
    "print(cgpa.values())\n",
    "cgpa[3]=9.22\n",
    "print(cgpa)\n",
    "del cgpa[1]\n",
    "print(cgpa)\n",
    "cgpa.clear()\n",
    "print(cgpa)\n",
    "print(2 in cgpa)"
   ]
  },
  {
   "cell_type": "code",
   "execution_count": 289,
   "id": "d5b4f2f4-485a-4978-a782-5e40c48872b6",
   "metadata": {},
   "outputs": [
    {
     "name": "stdout",
     "output_type": "stream",
     "text": [
      "Delhi\n",
      "Goa\n",
      "Rampur\n"
     ]
    }
   ],
   "source": [
    "home={\"prasanth\":\"Delhi\",\"Govinda\":\"Goa\",\"Rakesh\":\"Rampur\"}\n",
    "for d in home:\n",
    "    print(home[d])"
   ]
  },
  {
   "cell_type": "code",
   "execution_count": 313,
   "id": "9db9b3fb-0b6a-4a62-a91d-3e7246e037a9",
   "metadata": {},
   "outputs": [
    {
     "name": "stdout",
     "output_type": "stream",
     "text": [
      "Dolly\n",
      "3.01\n",
      "5\n",
      "71\n",
      "Add elements to tuple\n",
      "('Dolly', 3.01, 5, 71, 10)\n"
     ]
    }
   ],
   "source": [
    "tup=(\"Dolly\",3.01,5,71)\n",
    "\n",
    "i=0\n",
    "while i<len(tup):\n",
    "    print(tup[i])\n",
    "    i=i+1\n",
    "print(\"Add elements to tuple\")\n",
    "t1=list(tup)\n",
    "t1.append(10)\n",
    "tup=tuple(t1)\n",
    "print(tup)"
   ]
  },
  {
   "cell_type": "code",
   "execution_count": 349,
   "id": "51137f57-05e9-41c5-9feb-70639c52e2f9",
   "metadata": {},
   "outputs": [
    {
     "name": "stdout",
     "output_type": "stream",
     "text": [
      "{'b', 'd', 'c', 'a'}\n",
      "4\n",
      "{'n', 'r', 'm', 'c', 'b', 'd', 'a'}\n",
      "{'c'}\n",
      "{'b', 'd', 'a'}\n",
      "{'b', 'd', 'a'}\n",
      "{'m', 'n', 'r'}\n",
      "{'n', 'r', 'm', 'b', 'd', 'a'}\n",
      "set()\n",
      "{'c', 'f', 'b', 'd', 'a'}\n",
      "{'c', 'b', 'd', 'a'}\n",
      "{'b', 'd', 'a'}\n"
     ]
    }
   ],
   "source": [
    "a=set(['a','b','c','d'])\n",
    "b=set(['c','m','n','r'])\n",
    "\n",
    "print(s)\n",
    "print(len(s))\n",
    "print(a.union(b))\n",
    "print(a.intersection(b))\n",
    "print(a.difference(b))\n",
    "print(a-b)\n",
    "print(b.difference(a))\n",
    "print(a.symmetric_difference(b))\n",
    "print(a.symmetric_difference(a))\n",
    "a.add('f')\n",
    "print(a)\n",
    "a.remove('f')\n",
    "print(a)\n",
    "a.pop()\n",
    "print(a)"
   ]
  },
  {
   "cell_type": "code",
   "execution_count": 353,
   "id": "368eb7c3-e425-4966-960c-18096db9e58f",
   "metadata": {},
   "outputs": [
    {
     "name": "stdout",
     "output_type": "stream",
     "text": [
      "['C:\\\\Users\\\\Divanshi\\\\anaconda3\\\\Lib\\\\site-packages\\\\ipykernel_launcher.py', '-f', 'C:\\\\Users\\\\Divanshi\\\\AppData\\\\Roaming\\\\jupyter\\\\runtime\\\\kernel-d50f351c-376e-4437-b639-8829165df7b6.json']\n"
     ]
    },
    {
     "ename": "ValueError",
     "evalue": "invalid literal for int() with base 10: '-f'",
     "output_type": "error",
     "traceback": [
      "\u001b[1;31m---------------------------------------------------------------------------\u001b[0m",
      "\u001b[1;31mValueError\u001b[0m                                Traceback (most recent call last)",
      "Cell \u001b[1;32mIn[353], line 3\u001b[0m\n\u001b[0;32m      1\u001b[0m \u001b[38;5;28;01mimport\u001b[39;00m \u001b[38;5;21;01msys\u001b[39;00m\n\u001b[0;32m      2\u001b[0m \u001b[38;5;28mprint\u001b[39m(sys\u001b[38;5;241m.\u001b[39margv)\n\u001b[1;32m----> 3\u001b[0m a\u001b[38;5;241m=\u001b[39m\u001b[38;5;28mint\u001b[39m(sys\u001b[38;5;241m.\u001b[39margv[\u001b[38;5;241m1\u001b[39m])\n\u001b[0;32m      4\u001b[0m b\u001b[38;5;241m=\u001b[39m\u001b[38;5;28mint\u001b[39m(sys\u001b[38;5;241m.\u001b[39margv[\u001b[38;5;241m2\u001b[39m])\n\u001b[0;32m      5\u001b[0m \u001b[38;5;28mprint\u001b[39m(a\u001b[38;5;241m+\u001b[39mb)\n",
      "\u001b[1;31mValueError\u001b[0m: invalid literal for int() with base 10: '-f'"
     ]
    }
   ],
   "source": [
    "import sys\n",
    "print(sys.argv)\n",
    "a=int(sys.argv[1])\n",
    "b=int(sys.argv[2])\n",
    "print(a+b)"
   ]
  },
  {
   "cell_type": "code",
   "execution_count": 361,
   "id": "208698a6-fbd0-49e9-8ae9-9ecd4652b2ee",
   "metadata": {},
   "outputs": [
    {
     "name": "stdout",
     "output_type": "stream",
     "text": [
      "['C:\\\\Users\\\\Divanshi\\\\anaconda3\\\\Lib\\\\site-packages\\\\ipykernel_launcher.py', '-f', 'C:\\\\Users\\\\Divanshi\\\\AppData\\\\Roaming\\\\jupyter\\\\runtime\\\\kernel-d50f351c-376e-4437-b639-8829165df7b6.json']\n",
      "-fC:\\Users\\Divanshi\\AppData\\Roaming\\jupyter\\runtime\\kernel-d50f351c-376e-4437-b639-8829165df7b6.json\n"
     ]
    }
   ],
   "source": [
    "import sys\n",
    "print(sys.argv)\n",
    "a=sys.argv[1]\n",
    "b=sys.argv[2]\n",
    "print(a+b)"
   ]
  },
  {
   "cell_type": "code",
   "execution_count": 365,
   "id": "444620bc-40c3-4ef2-8467-32b33f247210",
   "metadata": {},
   "outputs": [
    {
     "name": "stdout",
     "output_type": "stream",
     "text": [
      "Writing done !! \n",
      "Open result.txt to view the content\n"
     ]
    }
   ],
   "source": [
    "fp=open('result.txt','w')\t\n",
    "for  i in range(1,11):\n",
    "\tfp.write(str(i) + \"\\n\")\n",
    "fp.close()\n",
    "\n",
    "print (\"Writing done !! \\nOpen result.txt to view the content\")"
   ]
  },
  {
   "cell_type": "code",
   "execution_count": 369,
   "id": "6011e0f2-e0d4-4884-b8a7-e7b12f51b574",
   "metadata": {},
   "outputs": [
    {
     "name": "stdout",
     "output_type": "stream",
     "text": [
      "1\n",
      "2\n",
      "3\n",
      "4\n",
      "5\n",
      "6\n",
      "7\n",
      "8\n",
      "9\n",
      "10\n"
     ]
    }
   ],
   "source": [
    "\n",
    "fp=open('result.txt')\t\t\n",
    "for line in fp: \t\t    \n",
    "\tprint (line.strip())\n",
    "fp.close()\n",
    "     "
   ]
  },
  {
   "cell_type": "code",
   "execution_count": 377,
   "id": "bd9b9025-f3c2-4927-88c4-4443260194c9",
   "metadata": {},
   "outputs": [
    {
     "name": "stdout",
     "output_type": "stream",
     "text": [
      "\n",
      "Open result.txt to view the content\n",
      " \n",
      "Open result.txt to view the content\n"
     ]
    }
   ],
   "source": [
    "Readfp=open('result.txt')\t\t\n",
    "Writefp=open('abc.txt','w')\t\n",
    "for line in Readfp:\n",
    "\tWritefp.write(line.upper())\n",
    "\n",
    "Writefp.close()\n",
    "Readfp.close()\n",
    "\n",
    "print (\"\\nOpen result.txt to view the content\")\n",
    "Readfp=open('result.txt')\t\t\n",
    "Writefp=open('abc.txt','w')\t\n",
    "for line in Readfp:\n",
    "\tWritefp.write(line.upper())\n",
    "\n",
    "Writefp.close()\n",
    "Readfp.close()\n",
    "\n",
    "print (\" \\nOpen result.txt to view the content\")\n",
    "     "
   ]
  }
 ],
 "metadata": {
  "kernelspec": {
   "display_name": "Python [conda env:base] *",
   "language": "python",
   "name": "conda-base-py"
  },
  "language_info": {
   "codemirror_mode": {
    "name": "ipython",
    "version": 3
   },
   "file_extension": ".py",
   "mimetype": "text/x-python",
   "name": "python",
   "nbconvert_exporter": "python",
   "pygments_lexer": "ipython3",
   "version": "3.12.7"
  }
 },
 "nbformat": 4,
 "nbformat_minor": 5
}

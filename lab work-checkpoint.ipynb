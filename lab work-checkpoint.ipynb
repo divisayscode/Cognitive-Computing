{
 "cells": [
  {
   "cell_type": "code",
   "execution_count": 25,
   "id": "692cb744-5708-4a1c-ac76-39b30d43f6ea",
   "metadata": {},
   "outputs": [
    {
     "name": "stdout",
     "output_type": "stream",
     "text": [
      "The og list is [10, 20, 30, 40, 50, 60, 70, 80]\n",
      "After adding 200 qnd 300 [10, 20, 30, 40, 50, 60, 70, 80, 200, 300]\n",
      "The list after deleting 10 nd 30 is [20, 30, 50, 60, 70, 80, 200, 300]\n",
      "Ascending order [20, 30, 50, 60, 70, 80, 200, 300]\n",
      "Descending order [300, 200, 80, 70, 60, 50, 30, 20]\n"
     ]
    }
   ],
   "source": [
    "L=[10,20,30,40,50,60,70,80]\n",
    "print(\"The og list is\",L)\n",
    "L.append(200)\n",
    "L.append(300)\n",
    "print(\"After adding 200 qnd 300\",L)\n",
    "del L[0]\n",
    "del L[2]\n",
    "print(\"The list after deleting 10 nd 30 is\",L)\n",
    "L.sort()\n",
    "print(\"Ascending order\",L)\n",
    "L.sort(reverse=True)\n",
    "print(\"Descending order\",L)"
   ]
  },
  {
   "cell_type": "code",
   "execution_count": 59,
   "id": "010e0cce-20d3-436c-8292-98540b4728fe",
   "metadata": {},
   "outputs": [
    {
     "name": "stdout",
     "output_type": "stream",
     "text": [
      "5\n",
      "[45, 89.5, 76, 45.4, 89, 92, 58, 45]\n"
     ]
    }
   ],
   "source": [
    "tup=(45,89.5,76,45.4,89,92,58,45)\n",
    "m=max(tup)\n",
    "i=tup.index(m)\n",
    "print(i)\n",
    "l=min(tup)\n",
    "tup.count(l)\n",
    "tup[::-1]\n",
    "l=list(tup)\n",
    "print(l)"
   ]
  },
  {
   "cell_type": "code",
   "execution_count": 95,
   "id": "a82f1a45-c633-44d0-b08e-5106f983cdf4",
   "metadata": {},
   "outputs": [
    {
     "name": "stdout",
     "output_type": "stream",
     "text": [
      "[809, 241, 569, 153, 499, 408, 291, 408, 481, 321, 246, 573, 105, 342, 163, 759, 620, 108, 419, 158, 229, 252, 265, 691, 562, 393, 575, 571, 869, 758, 527, 453, 125, 396, 246, 566, 232, 790, 169, 433, 194, 234, 716, 469, 156, 349, 734, 441, 647, 818, 780, 479, 311, 550, 475, 575, 449, 862, 417, 795, 892, 500, 344, 428, 312, 327, 535, 199, 316, 337, 155, 728, 838, 785, 898, 329, 424, 869, 401, 211, 630, 502, 863, 532, 850, 341, 738, 889, 889, 827, 451, 636, 595, 328, 533, 393, 288, 400, 338, 887]\n",
      "odd number: 809\n",
      "odd number: 241\n",
      "odd number: 569\n",
      "odd number: 153\n",
      "odd number: 499\n",
      "Even number: 408\n",
      "odd number: 291\n",
      "Even number: 408\n",
      "odd number: 481\n",
      "odd number: 321\n",
      "Even number: 246\n",
      "odd number: 573\n",
      "odd number: 105\n",
      "Even number: 342\n",
      "odd number: 163\n",
      "odd number: 759\n",
      "Even number: 620\n",
      "Even number: 108\n",
      "odd number: 419\n",
      "Even number: 158\n",
      "odd number: 229\n",
      "Even number: 252\n",
      "odd number: 265\n",
      "odd number: 691\n",
      "Even number: 562\n",
      "odd number: 393\n",
      "odd number: 575\n",
      "odd number: 571\n",
      "odd number: 869\n",
      "Even number: 758\n",
      "odd number: 527\n",
      "odd number: 453\n",
      "odd number: 125\n",
      "Even number: 396\n",
      "Even number: 246\n",
      "Even number: 566\n",
      "Even number: 232\n",
      "Even number: 790\n",
      "odd number: 169\n",
      "odd number: 433\n",
      "Even number: 194\n",
      "Even number: 234\n",
      "Even number: 716\n",
      "odd number: 469\n",
      "Even number: 156\n",
      "odd number: 349\n",
      "Even number: 734\n",
      "odd number: 441\n",
      "odd number: 647\n",
      "Even number: 818\n",
      "Even number: 780\n",
      "odd number: 479\n",
      "odd number: 311\n",
      "Even number: 550\n",
      "odd number: 475\n",
      "odd number: 575\n",
      "odd number: 449\n",
      "Even number: 862\n",
      "odd number: 417\n",
      "odd number: 795\n",
      "Even number: 892\n",
      "Even number: 500\n",
      "Even number: 344\n",
      "Even number: 428\n",
      "Even number: 312\n",
      "odd number: 327\n",
      "odd number: 535\n",
      "odd number: 199\n",
      "Even number: 316\n",
      "odd number: 337\n",
      "odd number: 155\n",
      "Even number: 728\n",
      "Even number: 838\n",
      "odd number: 785\n",
      "Even number: 898\n",
      "odd number: 329\n",
      "Even number: 424\n",
      "odd number: 869\n",
      "odd number: 401\n",
      "odd number: 211\n",
      "Even number: 630\n",
      "Even number: 502\n",
      "odd number: 863\n",
      "Even number: 532\n",
      "Even number: 850\n",
      "odd number: 341\n",
      "Even number: 738\n",
      "odd number: 889\n",
      "odd number: 889\n",
      "odd number: 827\n",
      "odd number: 451\n",
      "Even number: 636\n",
      "odd number: 595\n",
      "Even number: 328\n",
      "odd number: 533\n",
      "odd number: 393\n",
      "Even number: 288\n",
      "Even number: 400\n",
      "Even number: 338\n",
      "odd number: 887\n",
      "Odd numbers are 56\n",
      "Even numbers are 44\n"
     ]
    }
   ],
   "source": [
    "import random as r\n",
    "count=0\n",
    "count1=0\n",
    "random_num=[r.randint(100,900) for _ in range(100)]\n",
    "print(random_num)\n",
    "for i in range(len(random_num)):\n",
    "    if(random_num[i]%2==0):\n",
    "        print(\"Even number:\",random_num[i])\n",
    "        count1=count1+1\n",
    "    else:\n",
    "        print(\"odd number:\",random_num[i])\n",
    "        count=count+1\n",
    "\n",
    "print(\"Odd numbers are\",count)\n",
    "print(\"Even numbers are\",count1)"
   ]
  },
  {
   "cell_type": "code",
   "execution_count": 103,
   "id": "78f7437a-74be-4ecc-89f0-158991cabc94",
   "metadata": {},
   "outputs": [
    {
     "name": "stdout",
     "output_type": "stream",
     "text": [
      "[783, 865, 769, 461, 636, 594, 208, 606, 559, 201, 859, 274, 526, 831, 538, 695, 377, 615, 778, 355, 893, 468, 867, 453, 724, 396, 467, 828, 849, 734, 449, 544, 872, 490, 751, 500, 449, 191, 213, 422, 465, 422, 857, 254, 650, 711, 263, 480, 670, 796, 359, 178, 684, 341, 383, 691, 798, 528, 723, 825, 299, 701, 290, 429, 882, 694, 717, 165, 171, 460, 627, 573, 525, 796, 645, 426, 348, 720, 775, 900, 665, 690, 276, 664, 900, 599, 864, 425, 762, 867, 837, 244, 143, 753, 658, 152, 771, 814, 636, 211]\n",
      "Prime numbers in the list: [769, 461, 859, 467, 449, 751, 449, 191, 857, 263, 359, 383, 691, 701, 599, 211]\n"
     ]
    }
   ],
   "source": [
    "import random as r\n",
    "random_num = [r.randint(100, 900) for _ in range(100)]\n",
    "print(random_num)\n",
    "def is_prime(num):\n",
    "    if num <= 1:\n",
    "        return False\n",
    "    for i in range(2, (num // 2) + 1):\n",
    "        if num % i == 0:\n",
    "            return False\n",
    "    return True\n",
    "prime_numbers = [num for num in random_num if is_prime(num)]\n",
    "print(\"Prime numbers in the list:\", prime_numbers)"
   ]
  },
  {
   "cell_type": "code",
   "execution_count": 129,
   "id": "db0b1392-b32b-46fc-be33-8f6de7a661bc",
   "metadata": {},
   "outputs": [
    {
     "name": "stdout",
     "output_type": "stream",
     "text": [
      "scores that are Union  {34, 45, 78, 23, 56, 90}\n",
      "Scores that are intersection are {90, 78}\n",
      "Scores that are exclusive are {34, 45, 23, 56}\n"
     ]
    },
    {
     "name": "stdin",
     "output_type": "stream",
     "text": [
      "Please enter a number 56\n"
     ]
    },
    {
     "name": "stdout",
     "output_type": "stream",
     "text": [
      "{34, 90, 78}\n"
     ]
    }
   ],
   "source": [
    "A={34,56,78,90}\n",
    "B={78,45,90,23}\n",
    "print(\"scores that are Union \",A.union(B))\n",
    "print(\"Scores that are intersection are\",A.intersection(B))\n",
    "print(\"Scores that are exclusive are\",A.symmetric_difference(B))\n",
    "\n",
    "num=int(input(\"Please enter a number\"))\n",
    "if num in A:\n",
    "    A.remove(num)\n",
    "else:\n",
    "    print(\"Number not in A\")\n",
    "\n",
    "print(A)"
   ]
  },
  {
   "cell_type": "code",
   "execution_count": 135,
   "id": "d8121fbb-9d5e-41f8-8b54-7b684619daa9",
   "metadata": {},
   "outputs": [
    {
     "name": "stdout",
     "output_type": "stream",
     "text": [
      "False\n",
      "False\n"
     ]
    }
   ],
   "source": [
    "A={34,56,78,90}\n",
    "B={78,45,90,23}\n",
    "print(A.issubset(B))\n",
    "print(B.issuperset(A))"
   ]
  },
  {
   "cell_type": "code",
   "execution_count": 143,
   "id": "b9094509-f2ae-407a-a513-4ddbeb574f25",
   "metadata": {},
   "outputs": [
    {
     "name": "stdout",
     "output_type": "stream",
     "text": [
      "{'name': 'kelly', 'age': 25, 'salary': 8000, 'location': 'New York'}\n"
     ]
    }
   ],
   "source": [
    "sample_dict = {\"name\": \"kelly\", \"age\": 25, \"salary\": 8000, \"city\": \"New York\"}\n",
    "if \"city\" in sample_dict:\n",
    "    sample_dict[\"location\"] = sample_dict.pop(\"city\")\n",
    "print(sample_dict)\n"
   ]
  }
 ],
 "metadata": {
  "kernelspec": {
   "display_name": "Python [conda env:base] *",
   "language": "python",
   "name": "conda-base-py"
  },
  "language_info": {
   "codemirror_mode": {
    "name": "ipython",
    "version": 3
   },
   "file_extension": ".py",
   "mimetype": "text/x-python",
   "name": "python",
   "nbconvert_exporter": "python",
   "pygments_lexer": "ipython3",
   "version": "3.12.7"
  }
 },
 "nbformat": 4,
 "nbformat_minor": 5
}

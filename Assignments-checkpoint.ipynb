{
 "cells": [
  {
   "cell_type": "code",
   "execution_count": 1,
   "id": "e773b866-5db7-4e13-b214-bbf1dd8a829d",
   "metadata": {},
   "outputs": [
    {
     "name": "stdout",
     "output_type": "stream",
     "text": [
      "Divanshi\n",
      "Divanshi\n",
      "Divanshi\n"
     ]
    }
   ],
   "source": [
    "print(\"Divanshi\")\n",
    "print(\"Divanshi\")\n",
    "print(\"Divanshi\")"
   ]
  },
  {
   "cell_type": "code",
   "execution_count": 3,
   "id": "c5e513d8-6233-4ed2-88b1-5ff8ab9ea3ca",
   "metadata": {},
   "outputs": [
    {
     "name": "stdout",
     "output_type": "stream",
     "text": [
      "a+b+c --> 90\n"
     ]
    }
   ],
   "source": [
    "a=10\n",
    "b=20\n",
    "c=60\n",
    "d=a+b+c\n",
    "print(\"a+b+c -->\",d)"
   ]
  },
  {
   "cell_type": "code",
   "execution_count": 5,
   "id": "a5dd0938-3f4e-443f-87f6-4b9724cd3acc",
   "metadata": {},
   "outputs": [
    {
     "name": "stdout",
     "output_type": "stream",
     "text": [
      "String a+b+c is My name is Anthony Gonsalves\n"
     ]
    }
   ],
   "source": [
    "a=\"My name is\"\n",
    "b=\" Anthony\"\n",
    "c=\" Gonsalves\"\n",
    "d=a+b+c\n",
    "print(\"String a+b+c is\",d)"
   ]
  },
  {
   "cell_type": "code",
   "execution_count": 7,
   "id": "f2e59879-55c2-40c6-871f-9744d5ce325e",
   "metadata": {},
   "outputs": [
    {
     "name": "stdout",
     "output_type": "stream",
     "text": [
      "The table of 7\n",
      "7\n",
      "14\n",
      "21\n",
      "28\n",
      "35\n",
      "42\n",
      "49\n",
      "56\n",
      "63\n",
      "70\n"
     ]
    }
   ],
   "source": [
    "print(\"The table of 7\")\n",
    "for i in range(1,11):\n",
    "     print(7*i)"
   ]
  },
  {
   "cell_type": "code",
   "execution_count": 9,
   "id": "a598eb18-eb55-48ed-83c2-872ff14b7eba",
   "metadata": {},
   "outputs": [
    {
     "name": "stdin",
     "output_type": "stream",
     "text": [
      "Enter the number whose table you want 9\n"
     ]
    },
    {
     "name": "stdout",
     "output_type": "stream",
     "text": [
      "9\n",
      "18\n",
      "27\n",
      "36\n",
      "45\n",
      "54\n",
      "63\n",
      "72\n",
      "81\n",
      "90\n"
     ]
    }
   ],
   "source": [
    "a=int(input(\"Enter the number whose table you want\"))\n",
    "for i in range(1,11):\n",
    "    print(a*i)"
   ]
  },
  {
   "cell_type": "code",
   "execution_count": 11,
   "id": "8f91e20f-8f2f-4365-bd74-68a2ffae370d",
   "metadata": {},
   "outputs": [
    {
     "name": "stdin",
     "output_type": "stream",
     "text": [
      "Enter the number uptill which you want the sum 10\n"
     ]
    },
    {
     "name": "stdout",
     "output_type": "stream",
     "text": [
      "55\n"
     ]
    }
   ],
   "source": [
    "n=int(input(\"Enter the number uptill which you want the sum\"))\n",
    "sum=0\n",
    "for i in range(0,n+1):\n",
    "    sum=sum+i\n",
    "print(sum)"
   ]
  },
  {
   "cell_type": "code",
   "execution_count": 13,
   "id": "5abfccaf-160c-499d-9c53-80d250257774",
   "metadata": {},
   "outputs": [
    {
     "name": "stdin",
     "output_type": "stream",
     "text": [
      "Enter the first number:  4\n",
      "Enter the second number:  5\n",
      "Enter the third number:  10\n"
     ]
    },
    {
     "name": "stdout",
     "output_type": "stream",
     "text": [
      "The maximum number is: 10\n"
     ]
    }
   ],
   "source": [
    "num1 = int(input(\"Enter the first number: \"))\n",
    "num2 = int(input(\"Enter the second number: \"))\n",
    "num3 = int(input(\"Enter the third number: \"))\n",
    "\n",
    "maximum_number = max(num1, num2, num3)\n",
    "print(f\"The maximum number is: {maximum_number}\")"
   ]
  },
  {
   "cell_type": "code",
   "execution_count": 19,
   "id": "6e166588-8ff9-46de-808d-6cfb7b943905",
   "metadata": {},
   "outputs": [
    {
     "name": "stdin",
     "output_type": "stream",
     "text": [
      "Enter the value of n:  5\n"
     ]
    },
    {
     "name": "stdout",
     "output_type": "stream",
     "text": [
      "The sum of all numbers divisible by both 7 and 9 from 1 to 5 is: 0\n"
     ]
    }
   ],
   "source": [
    "n = int(input(\"Enter the value of n: \"))\n",
    "total_sum = 0\n",
    "for i in range(1, n+1):\n",
    "    if i % 7 == 0 and i % 9 == 0:\n",
    "        total_sum += i\n",
    "print(f\"The sum of all numbers divisible by both 7 and 9 from 1 to {n} is: {total_sum}\")\n"
   ]
  },
  {
   "cell_type": "code",
   "execution_count": 21,
   "id": "fbe0ca33-4291-4180-b6e3-fab49778dc9d",
   "metadata": {},
   "outputs": [
    {
     "name": "stdin",
     "output_type": "stream",
     "text": [
      "Enter the value of n:  7\n"
     ]
    },
    {
     "name": "stdout",
     "output_type": "stream",
     "text": [
      "The sum of all prime numbers from 1 to 7 is: 17\n"
     ]
    }
   ],
   "source": [
    "def is_prime(num):\n",
    "    if num <= 1:\n",
    "        return False\n",
    "    for i in range(2, num // 2 + 1):  \n",
    "        if num % i == 0:\n",
    "            return False\n",
    "    return True\n",
    "n = int(input(\"Enter the value of n: \"))\n",
    "prime_sum = 0\n",
    "for i in range(1, n + 1):\n",
    "    if is_prime(i):\n",
    "        prime_sum += i\n",
    "print(f\"The sum of all prime numbers from 1 to {n} is: {prime_sum}\")\n"
   ]
  },
  {
   "cell_type": "code",
   "execution_count": 24,
   "id": "84312391-7b28-4848-a391-469f058eabf9",
   "metadata": {},
   "outputs": [
    {
     "name": "stdin",
     "output_type": "stream",
     "text": [
      "Enter the value of n:  5\n"
     ]
    },
    {
     "name": "stdout",
     "output_type": "stream",
     "text": [
      "The sum of all odd numbers from 1 to 5 is: 9\n"
     ]
    }
   ],
   "source": [
    "def sum_of_odd_numbers(n):\n",
    "    total_sum = 0\n",
    "    for i in range(1, n+1, 2):\n",
    "        total_sum += i\n",
    "    return total_sum\n",
    "\n",
    "n = int(input(\"Enter the value of n: \"))\n",
    "result = sum_of_odd_numbers(n)\n",
    "print(f\"The sum of all odd numbers from 1 to {n} is: {result}\")\n"
   ]
  },
  {
   "cell_type": "code",
   "execution_count": 26,
   "id": "37eb119a-a3dd-4fa4-99d7-c9fe60d3321d",
   "metadata": {},
   "outputs": [
    {
     "name": "stdin",
     "output_type": "stream",
     "text": [
      "Enter the value of n:  5\n"
     ]
    },
    {
     "name": "stdout",
     "output_type": "stream",
     "text": [
      "The sum of all prime numbers from 1 to 5 is: 10\n"
     ]
    }
   ],
   "source": [
    "def is_prime(num):\n",
    "    if num <= 1:\n",
    "        return False\n",
    "    for i in range(2, num // 2 + 1):\n",
    "        if num % i == 0:\n",
    "            return False\n",
    "    return True\n",
    "\n",
    "def sum_of_primes(n):\n",
    "    total_sum = 0\n",
    "    for i in range(1, n + 1):\n",
    "        if is_prime(i):\n",
    "            total_sum += i\n",
    "    return total_sum\n",
    "\n",
    "n = int(input(\"Enter the value of n: \"))\n",
    "result = sum_of_primes(n)\n",
    "print(f\"The sum of all prime numbers from 1 to {n} is: {result}\")\n"
   ]
  }
 ],
 "metadata": {
  "kernelspec": {
   "display_name": "Python [conda env:base] *",
   "language": "python",
   "name": "conda-base-py"
  },
  "language_info": {
   "codemirror_mode": {
    "name": "ipython",
    "version": 3
   },
   "file_extension": ".py",
   "mimetype": "text/x-python",
   "name": "python",
   "nbconvert_exporter": "python",
   "pygments_lexer": "ipython3",
   "version": "3.12.7"
  }
 },
 "nbformat": 4,
 "nbformat_minor": 5
}

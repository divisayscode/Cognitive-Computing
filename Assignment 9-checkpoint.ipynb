{
 "cells": [
  {
   "cell_type": "code",
   "execution_count": 3,
   "id": "45d7c5e0-5cc3-4c48-a072-7c339d0ff15b",
   "metadata": {},
   "outputs": [],
   "source": [
    "import nltk\n",
    "import re\n",
    "from nltk.corpus import stopwords\n",
    "from nltk.tokenize import word_tokenize, sent_tokenize\n",
    "from nltk.probability import FreqDist"
   ]
  },
  {
   "cell_type": "code",
   "execution_count": 5,
   "id": "877eb262-d805-4568-9a85-35acf2ef4f07",
   "metadata": {},
   "outputs": [],
   "source": [
    "paragraph = \"\"\"The Indian Administrative Service (IAS) is one of the most prestigious civil services in India.\n",
    "IAS officers play a vital role in implementing government policies and maintaining law and order. They are responsible\n",
    "for planning and managing developmental programs at both central and state levels. The journey to becoming an IAS officer\n",
    "requires clearing the highly competitive UPSC examination. IAS officers are often seen as changemakers who work for the\n",
    "welfare of society. Their dedication and leadership contribute significantly to the nation’s progress.\"\"\"\n"
   ]
  },
  {
   "cell_type": "code",
   "execution_count": 107,
   "id": "2d26f7ff-2f2c-4661-86f7-00a5494b0792",
   "metadata": {},
   "outputs": [],
   "source": [
    "text = re.sub(r'[^\\w\\s]',  '',paragraph.lower())"
   ]
  },
  {
   "cell_type": "code",
   "execution_count": 9,
   "id": "066728ee-9d0d-4671-9950-da298a70f6bb",
   "metadata": {},
   "outputs": [
    {
     "name": "stdout",
     "output_type": "stream",
     "text": [
      "the indian administrative service ias is one of the most prestigious civil services in india\n",
      "ias officers play a vital role in implementing government policies and maintaining law and order they are responsible\n",
      "for planning and managing developmental programs at both central and state levels the journey to becoming an ias officer\n",
      "requires clearing the highly competitive upsc examination ias officers are often seen as changemakers who work for the\n",
      "welfare of society their dedication and leadership contribute significantly to the nations progress\n"
     ]
    }
   ],
   "source": [
    "print(text)"
   ]
  },
  {
   "cell_type": "code",
   "execution_count": 11,
   "id": "d903a787-ae96-4444-8e14-0921c921a6b2",
   "metadata": {},
   "outputs": [],
   "source": [
    "word_tokens = word_tokenize(text)\n",
    "sentence_tokens = sent_tokenize(text)"
   ]
  },
  {
   "cell_type": "code",
   "execution_count": 13,
   "id": "459a1768-83b4-44e1-81f5-87c2bb071d1a",
   "metadata": {},
   "outputs": [
    {
     "name": "stdout",
     "output_type": "stream",
     "text": [
      "['the', 'indian', 'administrative', 'service', 'ias', 'is', 'one', 'of', 'the', 'most', 'prestigious', 'civil', 'services', 'in', 'india', 'ias', 'officers', 'play', 'a', 'vital', 'role', 'in', 'implementing', 'government', 'policies', 'and', 'maintaining', 'law', 'and', 'order', 'they', 'are', 'responsible', 'for', 'planning', 'and', 'managing', 'developmental', 'programs', 'at', 'both', 'central', 'and', 'state', 'levels', 'the', 'journey', 'to', 'becoming', 'an', 'ias', 'officer', 'requires', 'clearing', 'the', 'highly', 'competitive', 'upsc', 'examination', 'ias', 'officers', 'are', 'often', 'seen', 'as', 'changemakers', 'who', 'work', 'for', 'the', 'welfare', 'of', 'society', 'their', 'dedication', 'and', 'leadership', 'contribute', 'significantly', 'to', 'the', 'nations', 'progress']\n"
     ]
    }
   ],
   "source": [
    "print(word_tokens)"
   ]
  },
  {
   "cell_type": "code",
   "execution_count": 15,
   "id": "55c463f1-c3de-45a8-b2a5-3db22fdc2ae9",
   "metadata": {},
   "outputs": [
    {
     "name": "stdout",
     "output_type": "stream",
     "text": [
      "['the indian administrative service ias is one of the most prestigious civil services in india\\nias officers play a vital role in implementing government policies and maintaining law and order they are responsible\\nfor planning and managing developmental programs at both central and state levels the journey to becoming an ias officer\\nrequires clearing the highly competitive upsc examination ias officers are often seen as changemakers who work for the\\nwelfare of society their dedication and leadership contribute significantly to the nations progress']\n"
     ]
    }
   ],
   "source": [
    "print(sentence_tokens)"
   ]
  },
  {
   "cell_type": "code",
   "execution_count": 17,
   "id": "e86ea51d-14ab-4279-a336-37029b10777d",
   "metadata": {},
   "outputs": [],
   "source": [
    "stop_words = set(stopwords.words('english'))\n",
    "filtered_words = [word for word in word_tokens if word not in stop_words]"
   ]
  },
  {
   "cell_type": "code",
   "execution_count": 19,
   "id": "76bfaa6a-8141-438a-a40f-c97e625e3011",
   "metadata": {},
   "outputs": [
    {
     "name": "stdout",
     "output_type": "stream",
     "text": [
      "{'how', \"it's\", \"we'd\", 'few', 'whom', 'only', 'you', 'themselves', 'its', 'if', \"mustn't\", 'nor', 'didn', 'wouldn', \"won't\", 'with', 'd', 'won', 'it', 'there', 'from', 'into', 'ours', 'here', 'an', \"she'll\", 'hers', 'at', 'myself', 'when', 'couldn', 'yourself', 'my', \"she'd\", 'between', 'is', 'off', 'was', 'y', 've', \"isn't\", 'through', 'as', 'no', 'during', 'for', 'hasn', 'against', 'does', 'where', 'such', 'some', 'has', 'haven', 're', \"we'll\", 'doesn', 'again', 'his', 'o', \"couldn't\", 'doing', 'under', 'yours', 'more', 'on', 'm', 'most', 'wasn', 'above', \"wasn't\", \"it'd\", 'am', \"we're\", 'and', \"haven't\", 'too', 'yourselves', 'by', \"hadn't\", 'own', 'any', 'herself', 'this', 'her', 'will', 'him', 'to', 'about', 'were', \"you're\", 'had', \"shouldn't\", 'can', 'before', 'until', \"she's\", 'which', 'or', 't', \"you've\", \"shan't\", 'are', 'he', 'been', 'up', 'just', 'do', 'having', 'isn', 'theirs', 'then', \"they'll\", \"they're\", 'hadn', 'further', 'these', \"mightn't\", 'in', 'over', \"needn't\", 'me', \"don't\", \"should've\", 'don', 's', 'their', \"you'll\", 'did', \"hasn't\", \"he'll\", 'she', \"he's\", \"aren't\", 'needn', 'll', 'now', 'aren', 'each', 'all', \"they'd\", 'after', 'be', 'who', 'because', 'out', 'shouldn', \"they've\", \"weren't\", 'ain', 'a', \"we've\", 'that', 'being', 'down', 'both', 'have', 'below', 'shan', \"didn't\", 'they', 'so', \"i'd\", 'mightn', 'i', 'should', 'we', 'the', \"doesn't\", 'ourselves', \"that'll\", 'weren', 'what', 'same', \"i'll\", 'once', 'of', 'mustn', \"he'd\", 'not', 'our', 'while', 'very', 'them', 'himself', \"i'm\", 'than', 'your', \"i've\", 'but', \"wouldn't\", 'those', \"you'd\", 'other', 'why', \"it'll\", 'ma', 'itself'}\n"
     ]
    }
   ],
   "source": [
    "print(stop_words)"
   ]
  },
  {
   "cell_type": "code",
   "execution_count": 21,
   "id": "5f62d9ca-3a2b-467a-9e24-d62cbf5f28db",
   "metadata": {},
   "outputs": [
    {
     "name": "stdout",
     "output_type": "stream",
     "text": [
      "['indian', 'administrative', 'service', 'ias', 'one', 'prestigious', 'civil', 'services', 'india', 'ias', 'officers', 'play', 'vital', 'role', 'implementing', 'government', 'policies', 'maintaining', 'law', 'order', 'responsible', 'planning', 'managing', 'developmental', 'programs', 'central', 'state', 'levels', 'journey', 'becoming', 'ias', 'officer', 'requires', 'clearing', 'highly', 'competitive', 'upsc', 'examination', 'ias', 'officers', 'often', 'seen', 'changemakers', 'work', 'welfare', 'society', 'dedication', 'leadership', 'contribute', 'significantly', 'nations', 'progress']\n"
     ]
    }
   ],
   "source": [
    "print(filtered_words)"
   ]
  },
  {
   "cell_type": "code",
   "execution_count": 23,
   "id": "5224d138-0080-4603-9959-808607708fc3",
   "metadata": {},
   "outputs": [],
   "source": [
    "freq = FreqDist(filtered_words)"
   ]
  },
  {
   "cell_type": "code",
   "execution_count": 25,
   "id": "e5aa37e0-1757-44fb-9f4a-f4636f92914e",
   "metadata": {},
   "outputs": [
    {
     "name": "stdout",
     "output_type": "stream",
     "text": [
      "<FreqDist with 48 samples and 52 outcomes>\n"
     ]
    }
   ],
   "source": [
    "print(freq)"
   ]
  },
  {
   "cell_type": "code",
   "execution_count": 31,
   "id": "82161844-bcc9-4bd0-aa00-313dc398d822",
   "metadata": {},
   "outputs": [
    {
     "name": "stdout",
     "output_type": "stream",
     "text": [
      "Word Frequency Distribution:\n"
     ]
    },
    {
     "data": {
      "image/png": "[encoded data removed]",
      "text/plain": [
       "<Figure size 640x480 with 1 Axes>"
      ]
     },
     "metadata": {},
     "output_type": "display_data"
    },
    {
     "data": {
      "text/plain": [
       "<Axes: xlabel='Samples', ylabel='Counts'>"
      ]
     },
     "execution_count": 31,
     "metadata": {},
     "output_type": "execute_result"
    }
   ],
   "source": [
    "print(\"Word Frequency Distribution:\")\n",
    "freq.plot()"
   ]
  },
  {
   "cell_type": "code",
   "execution_count": 33,
   "id": "4964add9-2506-41b3-9b30-8afe8e7fb32d",
   "metadata": {},
   "outputs": [],
   "source": [
    "from nltk.stem import PorterStemmer, LancasterStemmer, WordNetLemmatizer\n",
    "from nltk.corpus import wordnet"
   ]
  },
  {
   "cell_type": "code",
   "execution_count": 35,
   "id": "7790624b-d313-476f-bde1-5323558333e0",
   "metadata": {},
   "outputs": [],
   "source": [
    "porter = PorterStemmer()\n",
    "lancaster = LancasterStemmer()"
   ]
  },
  {
   "cell_type": "code",
   "execution_count": 37,
   "id": "55fdd726-10d3-4ed1-a18c-91c21a0124aa",
   "metadata": {},
   "outputs": [],
   "source": [
    "porter_stems = [porter.stem(word) for word in filtered_words]\n",
    "lancaster_stems = [lancaster.stem(word) for word in filtered_words]"
   ]
  },
  {
   "cell_type": "code",
   "execution_count": 39,
   "id": "3a996d35-f0af-46bb-a8e2-5687663260e6",
   "metadata": {},
   "outputs": [],
   "source": [
    "lemmatizer = WordNetLemmatizer()\n",
    "lemmatized_words = [lemmatizer.lemmatize(word) for word in filtered_words]"
   ]
  },
  {
   "cell_type": "code",
   "execution_count": 45,
   "id": "0d96d1f3-2292-426e-b253-aad5cd54ad1b",
   "metadata": {},
   "outputs": [
    {
     "name": "stdout",
     "output_type": "stream",
     "text": [
      "Original        PorterStemmer   LancasterStemmer Lemmatizer\n",
      "------------------------------------------------------------\n",
      "indian          indian          ind             indian         \n",
      "administrative  administr       admin           administrative \n",
      "service         servic          serv            service        \n",
      "ias             ia              ia              ia             \n",
      "one             one             on              one            \n",
      "prestigious     prestigi        prestigy        prestigious    \n",
      "civil           civil           civil           civil          \n",
      "services        servic          serv            service        \n",
      "india           india           ind             india          \n",
      "ias             ia              ia              ia             \n",
      "officers        offic           off             officer        \n",
      "play            play            play            play           \n",
      "vital           vital           vit             vital          \n",
      "role            role            rol             role           \n",
      "implementing    implement       impl            implementing   \n",
      "government      govern          govern          government     \n",
      "policies        polici          policy          policy         \n",
      "maintaining     maintain        maintain        maintaining    \n",
      "law             law             law             law            \n",
      "order           order           ord             order          \n",
      "responsible     respons         respons         responsible    \n",
      "planning        plan            plan            planning       \n",
      "managing        manag           man             managing       \n",
      "developmental   development     develop         developmental  \n",
      "programs        program         program         program        \n",
      "central         central         cent            central        \n",
      "state           state           stat            state          \n",
      "levels          level           level           level          \n",
      "journey         journey         journey         journey        \n",
      "becoming        becom           becom           becoming       \n",
      "ias             ia              ia              ia             \n",
      "officer         offic           off             officer        \n",
      "requires        requir          requir          requires       \n",
      "clearing        clear           clear           clearing       \n",
      "highly          highli          high            highly         \n",
      "competitive     competit        competit        competitive    \n",
      "upsc            upsc            upsc            upsc           \n",
      "examination     examin          examin          examination    \n",
      "ias             ia              ia              ia             \n",
      "officers        offic           off             officer        \n",
      "often           often           oft             often          \n",
      "seen            seen            seen            seen           \n",
      "changemakers    changemak       changemak       changemakers   \n",
      "work            work            work            work           \n",
      "welfare         welfar          welf            welfare        \n",
      "society         societi         socy            society        \n",
      "dedication      dedic           ded             dedication     \n",
      "leadership      leadership      lead            leadership     \n",
      "contribute      contribut       contribut       contribute     \n",
      "significantly   significantli   sign            significantly  \n",
      "nations         nation          nat             nation         \n",
      "progress        progress        progress        progress       \n"
     ]
    }
   ],
   "source": [
    "print(\"Original        PorterStemmer   LancasterStemmer Lemmatizer\")\n",
    "print(\"-\" * 60)\n",
    "for i in range(len(filtered_words)):\n",
    "    original = filtered_words[i]\n",
    "    porter = porter_stems[i]\n",
    "    lancaster = lancaster_stems[i]\n",
    "    lemma = lemmatized_words[i]\n",
    "    print(original.ljust(15), porter.ljust(15), lancaster.ljust(15), lemma.ljust(15))\n"
   ]
  },
  {
   "cell_type": "code",
   "execution_count": 47,
   "id": "32205d31-f625-4355-9a7a-89f2c7feb57a",
   "metadata": {},
   "outputs": [],
   "source": [
    "import re"
   ]
  },
  {
   "cell_type": "code",
   "execution_count": 93,
   "id": "a0cfa1ba-e943-44d9-b000-ffb4ccf61b2e",
   "metadata": {},
   "outputs": [],
   "source": [
    "original_text = \"\"\"The Indian Administrative Service (IAS) is one of the most prestigious civil services in India.\n",
    "IAS officers play a vital role in implementing government policies and maintaining law and order.\n",
    "They are responsible for planning and managing developmental programs at both central and state levels.\n",
    "The journey to becoming an IAS officer requires clearing the highly competitive UPSC examination.\n",
    "IAS officers are often seen as changemakers who work for the welfare of society.\n",
    "Their dedication and leadership contribute significantly to the nation’s progress.\"\"\""
   ]
  },
  {
   "cell_type": "code",
   "execution_count": 95,
   "id": "a557ba90-2475-4023-9241-4a6ff3f4145f",
   "metadata": {},
   "outputs": [
    {
     "name": "stdout",
     "output_type": "stream",
     "text": [
      "Words with more than 5 letters:\n",
      "['Indian', 'Administrative', 'Service', 'prestigious', 'services', 'officers', 'implementing', 'government', 'policies', 'maintaining', 'responsible', 'planning', 'managing', 'developmental', 'programs', 'central', 'levels', 'journey', 'becoming', 'officer', 'requires', 'clearing', 'highly', 'competitive', 'examination', 'officers', 'changemakers', 'welfare', 'society', 'dedication', 'leadership', 'contribute', 'significantly', 'nation', 'progress']\n"
     ]
    }
   ],
   "source": [
    "words = re.findall(r'\\b\\w{6,}\\b', original_text)\n",
    "print(\"Words with more than 5 letters:\")\n",
    "print(words)"
   ]
  },
  {
   "cell_type": "code",
   "execution_count": 97,
   "id": "9457aa68-ac06-4a50-8295-9bb8dd5eba50",
   "metadata": {},
   "outputs": [
    {
     "name": "stdout",
     "output_type": "stream",
     "text": [
      " Numbers in the text:\n",
      "[]\n"
     ]
    }
   ],
   "source": [
    "numbers = re.findall(r'\\b\\d+\\b', original_text)\n",
    "print(\" Numbers in the text:\")\n",
    "print(numbers)"
   ]
  },
  {
   "cell_type": "code",
   "execution_count": 99,
   "id": "bcfe6887-b70e-4b91-b473-cb6ce366a5c0",
   "metadata": {},
   "outputs": [
    {
     "name": "stdout",
     "output_type": "stream",
     "text": [
      " Capitalized words:\n",
      "['The', 'Indian', 'Administrative', 'Service', 'IAS', 'India', 'IAS', 'They', 'The', 'IAS', 'UPSC', 'IAS', 'Their']\n"
     ]
    }
   ],
   "source": [
    "capitalized_words = re.findall(r'\\b[A-Z][a-zA-Z]*\\b', original_text)\n",
    "print(\" Capitalized words:\")\n",
    "print(capitalized_words)"
   ]
  },
  {
   "cell_type": "code",
   "execution_count": 101,
   "id": "305f83b4-ae21-456d-9fb2-a935eb56a353",
   "metadata": {},
   "outputs": [
    {
     "name": "stdout",
     "output_type": "stream",
     "text": [
      " Words with only alphabets:\n",
      "['The', 'Indian', 'Administrative', 'Service', 'IAS', 'is', 'one', 'of', 'the', 'most', 'prestigious', 'civil', 'services', 'in', 'India', 'IAS', 'officers', 'play', 'a', 'vital', 'role', 'in', 'implementing', 'government', 'policies', 'and', 'maintaining', 'law', 'and', 'order', 'They', 'are', 'responsible', 'for', 'planning', 'and', 'managing', 'developmental', 'programs', 'at', 'both', 'central', 'and', 'state', 'levels', 'The', 'journey', 'to', 'becoming', 'an', 'IAS', 'officer', 'requires', 'clearing', 'the', 'highly', 'competitive', 'UPSC', 'examination', 'IAS', 'officers', 'are', 'often', 'seen', 'as', 'changemakers', 'who', 'work', 'for', 'the', 'welfare', 'of', 'society', 'Their', 'dedication', 'and', 'leadership', 'contribute', 'significantly', 'to', 'the', 'nation', 's', 'progress']\n"
     ]
    }
   ],
   "source": [
    "alphabet= re.findall(r'\\b[a-zA-Z]+\\b', string)\n",
    "print(\" Words with only alphabets:\")\n",
    "print(alphabet)"
   ]
  },
  {
   "cell_type": "code",
   "execution_count": 83,
   "id": "399e371d-d599-4751-ae34-c7d2b2cb937b",
   "metadata": {},
   "outputs": [
    {
     "name": "stdout",
     "output_type": "stream",
     "text": [
      " Words starting with a vowel:\n",
      "['Indian', 'Administrative', 'IAS', 'is', 'one', 'of', 'in', 'India', 'IAS', 'officers', 'a', 'in', 'implementing', 'and', 'and', 'order', 'are', 'and', 'at', 'and', 'an', 'IAS', 'officer', 'UPSC', 'examination', 'IAS', 'officers', 'are', 'often', 'as', 'of', 'and']\n"
     ]
    }
   ],
   "source": [
    "vowel_words = []\n",
    "for word in alphabet_only_words:\n",
    "    if word[0].lower() in ['a', 'e', 'i', 'o', 'u']:\n",
    "        vowel_words.append(word)\n",
    "\n",
    "print(\" Words starting with a vowel:\")\n",
    "print(vowel_words)"
   ]
  },
  {
   "cell_type": "code",
   "execution_count": 85,
   "id": "32f2aa5f-68f1-4a5b-9263-0ad572766e2c",
   "metadata": {},
   "outputs": [],
   "source": [
    "def custom_tokenizer(text):\n",
    "    \n",
    "    pattern = r\"\\b(?:\\d+\\.\\d+|\\d+|[a-zA-Z]+(?:['-][a-zA-Z]+)*)\\b\"\n",
    "    tokens = re.findall(pattern, text)\n",
    "    return tokens"
   ]
  },
  {
   "cell_type": "code",
   "execution_count": 103,
   "id": "740f0c33-7806-4d18-92f2-32cd0535f2d8",
   "metadata": {},
   "outputs": [],
   "source": [
    "def clean_text(text):\n",
    "\n",
    "    text = re.sub(r'\\b[\\w.-]+?@\\w+?\\.\\w+?\\b', '<EMAIL>', text)\n",
    "    text = re.sub(r'https?://\\S+|www\\.\\S+', '<URL>', text)\n",
    "    text = re.sub(r'(\\+?\\d{1,3}[\\s-])?\\d{3}[\\s-]?\\d{3}[\\s-]?\\d{4}', '<PHONE>', text)\n",
    "\n",
    "    return text"
   ]
  },
  {
   "cell_type": "code",
   "execution_count": 91,
   "id": "f3e4259c-381f-4325-a0e6-b7b50cfaac3d",
   "metadata": {},
   "outputs": [
    {
     "name": "stdout",
     "output_type": "stream",
     "text": [
      " Cleaned Text:\n",
      " The Indian Administrative Service (IAS) is one of the most prestigious civil services in India.\n",
      "IAS officers play a vital role in implementing government policies and maintaining law and order.\n",
      "They are responsible for planning and managing developmental programs at both central and state levels.\n",
      "The journey to becoming an IAS officer requires clearing the highly competitive UPSC examination.\n",
      "IAS officers are often seen as changemakers who work for the welfare of society.\n",
      "Their dedication and leadership contribute significantly to the nation’s progress.\n",
      " Custom Tokens:\n",
      " ['The', 'Indian', 'Administrative', 'Service', 'IAS', 'is', 'one', 'of', 'the', 'most', 'prestigious', 'civil', 'services', 'in', 'India', 'IAS', 'officers', 'play', 'a', 'vital', 'role', 'in', 'implementing', 'government', 'policies', 'and', 'maintaining', 'law', 'and', 'order', 'They', 'are', 'responsible', 'for', 'planning', 'and', 'managing', 'developmental', 'programs', 'at', 'both', 'central', 'and', 'state', 'levels', 'The', 'journey', 'to', 'becoming', 'an', 'IAS', 'officer', 'requires', 'clearing', 'the', 'highly', 'competitive', 'UPSC', 'examination', 'IAS', 'officers', 'are', 'often', 'seen', 'as', 'changemakers', 'who', 'work', 'for', 'the', 'welfare', 'of', 'society', 'Their', 'dedication', 'and', 'leadership', 'contribute', 'significantly', 'to', 'the', 'nation', 's', 'progress']\n"
     ]
    }
   ],
   "source": [
    "cleaned_text = clean_text(original_text)\n",
    "tokens = custom_tokenizer(cleaned_text)\n",
    "\n",
    "print(\" Cleaned Text:\\n\", cleaned_text)\n",
    "print(\" Custom Tokens:\\n\", tokens)"
   ]
  }
 ],
 "metadata": {
  "kernelspec": {
   "display_name": "Python [conda env:base] *",
   "language": "python",
   "name": "conda-base-py"
  },
  "language_info": {
   "codemirror_mode": {
    "name": "ipython",
    "version": 3
   },
   "file_extension": ".py",
   "mimetype": "text/x-python",
   "name": "python",
   "nbconvert_exporter": "python",
   "pygments_lexer": "ipython3",
   "version": "3.12.7"
  }
 },
 "nbformat": 4,
 "nbformat_minor": 5
}

{
 "cells": [
  {
   "cell_type": "code",
   "execution_count": 3,
   "id": "26cef560-04ba-4350-810e-5eff104bf90c",
   "metadata": {},
   "outputs": [
    {
     "name": "stdout",
     "output_type": "stream",
     "text": [
      "Original array answer - [ 2  4  6  8 10]\n",
      "after adding 2 answer - [ 4  6  8 10 12]\n",
      "after multiplying 3 answer -  [ 6 12 18 24 30]\n",
      "after dividing with 2 answer - [1. 2. 3. 4. 5.]\n"
     ]
    }
   ],
   "source": [
    "import numpy as np\n",
    "arr=np.array([2,4,6,8,10])\n",
    "print(\"Original array answer -\",arr)\n",
    "print(\"after adding 2 answer -\",arr+2)\n",
    "print(\"after multiplying 3 answer - \",arr*3)\n",
    "print(\"after dividing with 2 answer -\",arr/2)"
   ]
  },
  {
   "cell_type": "code",
   "execution_count": 17,
   "id": "5caf4490-177f-4481-a7fa-6b33cb823134",
   "metadata": {},
   "outputs": [
    {
     "name": "stdout",
     "output_type": "stream",
     "text": [
      "(a) Reversed array: [5 4 6 3 2 1]\n",
      "\n",
      "\n",
      "(b) First list of numbers: [1 2 3 4 5 1 2 1 1 1]\n",
      "Occurrences of each number (0 to 5): [0 5 2 1 1 1]\n",
      "Number with the highest occurrence: 1\n",
      "Indexes where 1 appears: [0 5 7 8 9]\n",
      "\n",
      "\n",
      "Second list of numbers: [1 1 1 2 3 4 2 4 3 3]\n",
      "Occurrences of each number (0 to 4): [0 3 2 3 2]\n",
      "Number with the highest occurrence in second list: 1\n",
      "Indexes where 1 appears: [0 1 2]\n"
     ]
    }
   ],
   "source": [
    "import numpy as np \n",
    "\n",
    "nums = np.array([1, 2, 3, 6, 4, 5])\n",
    "print(\"(a) Reversed array:\", np.flip(nums))\n",
    "print(\"\\n\")\n",
    "arr1 = np.array([1, 2, 3, 4, 5, 1, 2, 1, 1, 1])\n",
    "arr2 = np.array([1, 1, 1, 2, 3, 4, 2, 4, 3, 3])\n",
    "print(\"(b) First list of numbers:\", arr1)\n",
    "freq = np.bincount(arr1)\n",
    "print(\"Occurrences of each number (0 to 5):\", freq)\n",
    "max_freq_num = np.argmax(freq)\n",
    "print(\"Number with the highest occurrence:\", max_freq_num)\n",
    "pos = np.where(arr1 == max_freq_num)[0]\n",
    "print(\"Indexes where\", max_freq_num, \"appears:\", pos)\n",
    "print(\"\\n\")\n",
    "print(\"Second list of numbers:\", arr2)\n",
    "freq2 = np.bincount(arr2)\n",
    "print(\"Occurrences of each number (0 to 4):\", freq2)\n",
    "max_freq_num2 = np.argmax(freq)\n",
    "print(\"Number with the highest occurrence in second list:\", max_freq_num2)\n",
    "pos2 = np.where(arr2 == max_freq_num2)[0]\n",
    "print(\"Indexes where\", max_freq_num2, \"appears:\", pos2)\n"
   ]
  },
  {
   "cell_type": "code",
   "execution_count": 7,
   "id": "e5483adc-975c-4989-add8-ea36a7cca70c",
   "metadata": {},
   "outputs": [
    {
     "name": "stdout",
     "output_type": "stream",
     "text": [
      "[[10 20 30]\n",
      " [40 50 60]\n",
      " [70 80 90]]\n",
      "Element at first row and second column: 20\n",
      "Element at third row and first column: 70\n"
     ]
    }
   ],
   "source": [
    "arr=np.array([[10, 20, 30], [40, 50, 60], [70, 80, 90]])\n",
    "print(arr)\n",
    "print(\"Element at first row and second column:\",arr[0,1])\n",
    "print(\"Element at third row and first column:\",arr[2,0])"
   ]
  },
  {
   "cell_type": "code",
   "execution_count": 21,
   "id": "c14e8993-5ad0-4603-a84f-d6d5574603d8",
   "metadata": {},
   "outputs": [
    {
     "name": "stdout",
     "output_type": "stream",
     "text": [
      "The array is: [ 10.    13.75  17.5   21.25  25.    28.75  32.5   36.25  40.    43.75\n",
      "  47.5   51.25  55.    58.75  62.5   66.25  70.    73.75  77.5   81.25\n",
      "  85.    88.75  92.5   96.25 100.  ]\n",
      "Dimensions of array: 1\n",
      "Shape of array: (25,)\n",
      "Size of array: 25\n",
      "Data-type of elements: float64\n",
      "Total bytes consumed: 200\n",
      "Transpose of array: [[ 10.  ]\n",
      " [ 13.75]\n",
      " [ 17.5 ]\n",
      " [ 21.25]\n",
      " [ 25.  ]\n",
      " [ 28.75]\n",
      " [ 32.5 ]\n",
      " [ 36.25]\n",
      " [ 40.  ]\n",
      " [ 43.75]\n",
      " [ 47.5 ]\n",
      " [ 51.25]\n",
      " [ 55.  ]\n",
      " [ 58.75]\n",
      " [ 62.5 ]\n",
      " [ 66.25]\n",
      " [ 70.  ]\n",
      " [ 73.75]\n",
      " [ 77.5 ]\n",
      " [ 81.25]\n",
      " [ 85.  ]\n",
      " [ 88.75]\n",
      " [ 92.5 ]\n",
      " [ 96.25]\n",
      " [100.  ]]\n",
      "Transpose using T attribute: [ 10.    13.75  17.5   21.25  25.    28.75  32.5   36.25  40.    43.75\n",
      "  47.5   51.25  55.    58.75  62.5   66.25  70.    73.75  77.5   81.25\n",
      "  85.    88.75  92.5   96.25 100.  ]\n",
      "Does transpose and transpose_T give same result? False\n"
     ]
    }
   ],
   "source": [
    "import numpy as np\n",
    "Divanshi=np.linspace(10,100,25)\n",
    "print(\"The array is:\",Divanshi)\n",
    "print(\"Dimensions of array:\",Divanshi.ndim)\n",
    "print(\"Shape of array:\",Divanshi.shape)\n",
    "print(\"Size of array:\",Divanshi.size)\n",
    "print(\"Data-type of elements:\",Divanshi.dtype)\n",
    "print(\"Total bytes consumed:\",Divanshi.nbytes)\n",
    "transpose=Divanshi.reshape(25,1)\n",
    "print(\"Transpose of array:\",transpose)\n",
    "transpose_T=Divanshi.T\n",
    "print(\"Transpose using T attribute:\",transpose_T)\n",
    "print(\"Does transpose and transpose_T give same result?\",np.array_equal(transpose,transpose_T))"
   ]
  },
  {
   "cell_type": "code",
   "execution_count": 19,
   "id": "c2200fd8-5603-4a1a-834d-7595d31d98e7",
   "metadata": {},
   "outputs": [
    {
     "name": "stdout",
     "output_type": "stream",
     "text": [
      "The array is: [[10 20 30 40]\n",
      " [50 60 70 80]\n",
      " [90 15 20 35]]\n",
      "Mean of elements: 43.333333333333336\n",
      "Median of elements: 37.5\n",
      "Maximum element is: 90\n",
      "Minimum element is: 10\n",
      "Unique element is: [10 15 20 30 35 40 50 60 70 80 90]\n",
      "Reshaped array: [[10 20 30]\n",
      " [40 50 60]\n",
      " [70 80 90]\n",
      " [15 20 35]]\n",
      "Resized array: [[10 20 30]\n",
      " [40 50 60]]\n"
     ]
    }
   ],
   "source": [
    "import numpy as np\n",
    "ucs420_Divanshi=np.array([[10,20,30,40],[50,60,70,80],[90,15,20,35]])\n",
    "print(\"The array is:\",ucs420_Divanshi)\n",
    "print(\"Mean of elements:\",np.mean(ucs420_Divanshi))\n",
    "print(\"Median of elements:\",np.median(ucs420_Divanshi))\n",
    "print(\"Maximum element is:\",np.max(ucs420_Divanshi))\n",
    "print(\"Minimum element is:\",np.min(ucs420_Divanshi))\n",
    "print(\"Unique element is:\",np.unique(ucs420_Divanshi))\n",
    "reshaped_ucs420_Divanshi=ucs420_Divanshi.reshape(4,3)\n",
    "print(\"Reshaped array:\",reshaped_ucs420_Divanshi)\n",
    "resized_ucs420_Divanshi=np.resize(ucs420_Divanshi,(2,3))\n",
    "print(\"Resized array:\",resized_ucs420_Divanshi)"
   ]
  }
 ],
 "metadata": {
  "kernelspec": {
   "display_name": "Python [conda env:base] *",
   "language": "python",
   "name": "conda-base-py"
  },
  "language_info": {
   "codemirror_mode": {
    "name": "ipython",
    "version": 3
   },
   "file_extension": ".py",
   "mimetype": "text/x-python",
   "name": "python",
   "nbconvert_exporter": "python",
   "pygments_lexer": "ipython3",
   "version": "3.12.7"
  }
 },
 "nbformat": 4,
 "nbformat_minor": 5
}
